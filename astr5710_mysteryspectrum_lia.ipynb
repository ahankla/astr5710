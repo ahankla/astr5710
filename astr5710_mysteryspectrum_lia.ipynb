{
 "cells": [
  {
   "cell_type": "code",
<<<<<<< HEAD
   "execution_count": 4,
=======
   "execution_count": 7,
>>>>>>> 7f06a3de2fe33cf30f3ac20688f5814057012940
   "metadata": {
    "scrolled": false
   },
   "outputs": [],
   "source": [
    "%matplotlib inline\n",
    "import matplotlib.pyplot as plt\n",
    "import numpy as np\n",
    "from astropy.io import ascii\n",
    "from scipy.special import gamma\n",
    "\n",
    "# plotting options\n",
    "import matplotlib as mpl\n",
    "mpl.rc('font',**{'family':'sans-serif','size':14})\n",
    "mpl.rcParams['xtick.direction'] = 'in'\n",
    "mpl.rcParams['ytick.direction'] = 'in'"
   ]
  },
  {
   "cell_type": "code",
<<<<<<< HEAD
   "execution_count": 2,
   "metadata": {},
   "outputs": [],
   "source": [
    "kev_to_Hz = 2.4e17\n",
    "h_cgs = 6.6e-27 # erg*s\n",
    "kb_cgs = 1.4e-16 # erg/K\n",
    "G_cgs = 6.67e-8\n",
    "c_cgs = 3e10\n",
    "Msun_cgs = 2e33\n",
    "e_cgs = 4.8e-10\n",
    "me_cgs = 9.1e-28"
=======
   "execution_count": null,
   "metadata": {},
   "outputs": [],
   "source": []
  },
  {
   "cell_type": "code",
   "execution_count": 8,
   "metadata": {},
   "outputs": [],
   "source": [
    "e=4.8e-10\n",
    "m=9.11e-28\n",
    "c=3e10\n",
    "\n",
    "def A(p):\n",
    "    return 2**(p-3./2.)*(p+7./3.)/(p+1.)*gamma(p/4.+7./12.)*gamma(p/4.-1./12)\n",
    "\n",
    "def synchpl(n,B,gmin,gmax,p,sinalpha,nu):\n",
    "    nub=e*B/2./np.pi/m/c\n",
    "    return np.sqrt(3.)*n*e**2.*(p-1)*nub*sinalpha/4./c/(gmin**(1-p)-gmax**(1-p))*(nu/(3./2.)*nub*sinalpha)**(-(p-1)/2.)*A(p)"
>>>>>>> 7f06a3de2fe33cf30f3ac20688f5814057012940
   ]
  },
  {
   "cell_type": "markdown",
   "metadata": {},
   "source": [
    "# Analyze a mystery object's power law synchrotron spectrum"
   ]
  },
  {
   "cell_type": "markdown",
   "metadata": {},
   "source": [
    "## Spectrum\n",
    "\n",
    "The object's angular size at 86 GHz is $\\sim 0.01$ mas ($\\simeq 5x10^{-11}$ rad), in an observation where flux density $F_\\nu = 0.235$ Jy with $1$ Jy = $10^{-23}$ erg cm$^{-2}$ s$^{-1}$ ster$^{-1}$, and it is at a distance $D = 140$ Mpc from Earth"
   ]
  },
  {
   "cell_type": "code",
<<<<<<< HEAD
   "execution_count": 32,
=======
   "execution_count": 2,
>>>>>>> 7f06a3de2fe33cf30f3ac20688f5814057012940
   "metadata": {},
   "outputs": [
    {
     "data": {
      "text/plain": [
       "Text(0, 0.5, 'monochromatic flux $\\\\nu F_\\\\nu$ (erg cm$^{-2}$ s$^{-1}$)')"
      ]
     },
<<<<<<< HEAD
     "execution_count": 32,
=======
     "execution_count": 2,
>>>>>>> 7f06a3de2fe33cf30f3ac20688f5814057012940
     "metadata": {},
     "output_type": "execute_result"
    },
    {
     "data": {
<<<<<<< HEAD
      "image/png": "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\n",
=======
      "image/png": "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\n",
>>>>>>> 7f06a3de2fe33cf30f3ac20688f5814057012940
      "text/plain": [
       "<Figure size 432x432 with 1 Axes>"
      ]
     },
     "metadata": {
      "needs_background": "light"
     },
     "output_type": "display_data"
    }
   ],
   "source": [
    "# load data\n",
    "data = ascii.read('astr5710_mysteryobject1.csv',format='csv')\n",
    "\n",
    "angular_size = 5.e-11\n",
    "solid_angle = np.pi*angular_size**2\n",
    "Fnu = 2.35e-24\n",
    "nu = 86e9\n",
    "distance = 4.3e26 #cm\n",
    "# trig: tan theta \\approx \\theta = R/D\n",
    "radius = distance*angular_size\n",
    "\n",
    "plt.figure(figsize=(6,6))\n",
    "plt.loglog(data['nu'],data['nuFnu'],marker='o',linestyle='')\n",
    "plt.xlabel(r'frequency $\\nu$ (Hz)',fontsize=16); plt.ylabel(r'monochromatic flux $\\nu F_\\nu$ (erg cm$^{-2}$ s$^{-1}$)',fontsize=16)"
   ]
  },
  {
   "cell_type": "markdown",
   "metadata": {},
   "source": [
    "## 1. What values of p do you see at low and high frequencies? What range of e- energies is present (e.g. what is $\\gamma_{\\rm max}/\\gamma_{\\rm min}$ for each power law)?"
   ]
  },
  {
   "cell_type": "code",
   "execution_count": 10,
   "metadata": {},
   "outputs": [
    {
     "name": "stdout",
     "output_type": "stream",
     "text": [
      "0.5\n",
      "2.0\n",
      "0.75\n",
      "2.5\n"
     ]
    }
   ],
   "source": [
    "low_freq_slope = 1/2\n",
    "low_jnu_slope = low_freq_slope - 1\n",
    "low_alpha = -low_jnu_slope\n",
    "low_p = 2*low_alpha+1\n",
    "print(low_alpha)\n",
    "print(low_p)\n",
    "high_freq_slope = 0.5/(2)\n",
    "high_jnu_slope = high_freq_slope - 1\n",
    "high_alpha = -high_jnu_slope\n",
    "high_p = 2*high_alpha + 1\n",
    "print(high_alpha)\n",
    "print(high_p)"
   ]
  },
  {
   "cell_type": "markdown",
   "metadata": {},
   "source": [
    "## 2. Brightness temperature\n",
    "\n",
    "Calculate the observed brightness temperature, assuming the source is a sphere\n",
    "\n",
    "$$T_b = \\frac{c^2 I_\\nu}{2 k \\nu^2}$$"
   ]
  },
  {
   "cell_type": "code",
   "execution_count": 11,
   "metadata": {},
   "outputs": [
    {
     "name": "stdout",
     "output_type": "stream",
     "text": [
      "1.30e+11\n"
     ]
    }
   ],
   "source": [
    "# angular_size = radius/distance\n",
    "# Fnu = solid_angle*I_nu = pi*angular_size**2*Inu, assume Inu is Planck for brightness temperature\n",
    "Inu = Fnu/np.pi/solid_angle**2\n",
    "Tb = c_cgs**2*Inu/(2*kb_cgs*nu**2)\n",
    "print(\"{:.2e}\".format(Tb))\n",
    "# a brightness temperature of 1e11 is HUGE -- but remember it's an upper limit on thermal...\n",
    "# so this source could be nonthermal. "
   ]
  },
  {
   "cell_type": "markdown",
   "metadata": {},
   "source": [
    "## 3. Magnetic field estimate\n",
    "\n",
    "A power law synchrotron spectrum is composed of the sum of contributions from electrons of different energies. A useful approximation is that each observed frequency is mostly produced by electrons whose Lorentz factor $\\gamma$ is such that $\\nu_c(\\gamma) = \\nu$.\n",
    "\n",
    "Show that for a single electron, this approximation allows an estimate of the magnetic field strength $B$ when $\\gamma$ is known. Using $\\gamma m_e c^2 \\approx 3 k T$ and setting $T = T_b$ from the previous part, estimate the magnetic field strength of the mystery object. You can assume that $\\sin \\alpha = 1/2$.\n",
    "\n",
    "Given that brightness temperature is a lower limit to the true temperature, how does this estimate of $B$ compare to the actual value?"
   ]
  },
  {
   "cell_type": "code",
   "execution_count": 27,
   "metadata": {},
   "outputs": [
    {
     "name": "stdout",
     "output_type": "stream",
     "text": [
      "1.81e+12\n"
     ]
    },
    {
     "data": {
      "text/plain": [
       "9.21460186831132"
      ]
     },
     "execution_count": 27,
     "metadata": {},
     "output_type": "execute_result"
    }
   ],
   "source": [
    "B_const = 8.*np.pi/3*me_cgs**3*c_cgs**5/(9*kb_cgs**2*e_cgs)\n",
    "def B_estimate(T, nu_c):\n",
    "    return B_const*nu_c/T**2\n",
    "\n",
    "print(\"{:.2e}\".format(B_const))\n",
    "B_estimate(Tb, nu)"
   ]
  },
  {
   "cell_type": "markdown",
   "metadata": {},
   "source": [
    "## 4. What are the minimum and maximum electron energies present?\n",
    "\n",
    "Use the observed spectrum and your estimate for $B$ to calculate the cutoff Lorentz factor, $\\gamma_{\\rm max}$. Further assume that the lowest measured frequency corresponds to $\\nu_c(\\gamma_{\\rm min})$, and estimate $\\gamma_{\\rm min}$."
   ]
  },
  {
   "cell_type": "code",
   "execution_count": 25,
   "metadata": {},
   "outputs": [
    {
     "name": "stdout",
     "output_type": "stream",
     "text": [
      "2.27e+05\n",
      "7.19e+00\n"
     ]
    }
   ],
   "source": [
    "def gamma_from_nu(nu_val, B_estimate):\n",
    "    return np.sqrt(8.*np.pi/3*nu_val*me_cgs*c_cgs/(e_cgs*B_estimate))\n",
    "    \n",
    "nu_max = 1.e18\n",
    "gamma_max = gamma_from_nu(nu_max, B_estimate(Tb, nu))\n",
    "nu_min = 1.e9\n",
    "gamma_min = gamma_from_nu(nu_min, B_estimate(Tb, nu))\n",
    "print(\"{:.2e}\".format(gamma_max))\n",
    "print(\"{:.2e}\".format(gamma_min))"
   ]
  },
  {
   "cell_type": "markdown",
   "metadata": {},
   "source": [
    "## 5. Particle density estimate\n",
    "\n",
    "Finally, use these parameters and the power law emissivity (the function jnu_PL below) along with your solution from Problem Set 1 for the flux density from a uniform, optically thin sphere to estimate the particle density $n_e$.\n",
    "\n",
    "For this estimate, you can use the source size $R$ at $\\nu = 86$ GHz and the corresponding values of $F_\\nu$ and $p$ from the source spectrum."
   ]
  },
  {
   "cell_type": "code",
   "execution_count": 35,
   "metadata": {},
   "outputs": [
    {
     "name": "stdout",
     "output_type": "stream",
     "text": [
      "R=2.15e+16 cm\n"
     ]
    }
   ],
   "source": [
    "print(\"R={:.2e} cm\".format(radius))\n",
    "    \n",
    "# Take the p from the low power-law since all the Tb, R measurements come from 86 GHz\n",
    "# From PS 1, problem 1c, get the flux density from an optically thin sphere\n",
    "def Fnu_thin(jnu):\n",
    "    return 4.*np.pi/3.*radius**3*jnu/(4.*np.pi)"
   ]
  },
  {
   "cell_type": "markdown",
   "metadata": {},
   "source": [
    "## 6. What is the mystery object?\n",
    "\n",
    "Given the properties you've calculated, what can you say about the mystery object? What types of astronomical objects do you think it could be and why?"
   ]
  },
  {
   "cell_type": "code",
   "execution_count": null,
   "metadata": {},
   "outputs": [],
   "source": []
  }
 ],
 "metadata": {
  "kernelspec": {
   "display_name": "Python 3",
   "language": "python",
   "name": "python3"
  },
  "language_info": {
   "codemirror_mode": {
    "name": "ipython",
    "version": 3
   },
   "file_extension": ".py",
   "mimetype": "text/x-python",
   "name": "python",
   "nbconvert_exporter": "python",
   "pygments_lexer": "ipython3",
   "version": "3.6.9"
  }
 },
 "nbformat": 4,
 "nbformat_minor": 2
}
