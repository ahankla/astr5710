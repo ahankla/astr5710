{
 "cells": [
  {
   "cell_type": "code",
   "execution_count": 18,
   "metadata": {
    "scrolled": false
   },
   "outputs": [],
   "source": [
    "%matplotlib inline\n",
    "import matplotlib.pyplot as plt\n",
    "import numpy as np\n",
    "from astropy.io import ascii\n",
    "import matplotlib.image as mpimg\n",
    "\n",
    "# plotting options\n",
    "import matplotlib as mpl\n",
    "mpl.rc('font',**{'family':'sans-serif','size':14})\n",
    "mpl.rcParams['xtick.direction'] = 'in'\n",
    "mpl.rcParams['ytick.direction'] = 'in'"
   ]
  },
  {
   "cell_type": "markdown",
   "metadata": {},
   "source": [
    "# Problem Set 3: Jets and Transients\n",
    "\n",
    "## Only 2/3 problems of your choice need to be completed and turned in for grading!"
   ]
  },
  {
   "cell_type": "markdown",
   "metadata": {},
   "source": [
    "## Problem 1 -- superluminal motion\n",
    "\n",
    "Relativistic jets from black holes can eject material in a sequence of compact components (\"blobs\"). Due to relativistic motion, the apparent speeds of those components on sky can significantly exceed the speed of light."
   ]
  },
  {
   "cell_type": "code",
   "execution_count": 24,
   "metadata": {},
   "outputs": [
    {
     "data": {
      "text/plain": [
       "(-0.5, 2961.5, 1441.5, -0.5)"
      ]
     },
     "execution_count": 24,
     "metadata": {},
     "output_type": "execute_result"
    },
    {
     "data": {
      "image/png": "[encoded data removed]",
      "text/plain": [
       "<Figure size 432x288 with 1 Axes>"
      ]
     },
     "metadata": {
      "needs_background": "light"
     },
     "output_type": "display_data"
    }
   ],
   "source": [
    "img=mpimg.imread('superluminal_motion_edit.png')\n",
    "plt.imshow(img)\n",
    "plt.axis('off')"
   ]
  },
  {
   "cell_type": "markdown",
   "metadata": {},
   "source": [
    "### a) Apparent speed\n",
    "\n",
    "Consider photons emitted by a source moving at speed $\\beta = v/c$ at an angle $\\theta$ with respect to a distant observer. Calculate the apparent speed of the source on sky, $\\Delta x / \\Delta t$."
   ]
  },
  {
   "cell_type": "code",
   "execution_count": null,
   "metadata": {},
   "outputs": [],
   "source": []
  },
  {
   "cell_type": "markdown",
   "metadata": {},
   "source": [
    "### b) Application to M87 HST observations\n",
    "\n",
    "From HST observations, M87's optical jet shows components moving at apparent speeds on sky of up to $\\simeq 6 c$. In the relativistic limit $\\beta \\approx 1$, solve (numerically) for the *maximum* inclination angle $\\theta$ of the M87 jet to the line of sight, assuming the components move along the jet axis."
   ]
  },
  {
   "cell_type": "code",
   "execution_count": null,
   "metadata": {},
   "outputs": [],
   "source": []
  },
  {
   "cell_type": "markdown",
   "metadata": {},
   "source": [
    "## Problem 2 -- the gamma-ray burst \"compactness\" problem\n",
    "\n",
    "The enormous radiated energies and short durations of gamma-ray bursts imply large optical depths, seemingly in conflict with their non-thermal spectra. This was long known as the GRB \"compactness\" problem."
   ]
  },
  {
   "cell_type": "markdown",
   "metadata": {},
   "source": [
    "### GRB (apparent) photon-photon optical depth\n",
    "\n",
    "Consider a uniform, spherical region of radius $R$ at rest which radiates a total energy $E$ in an observed time $\\Delta t_{\\rm obs}$. An upper limit to the size comes from the need to coordinate the variability across the object, $R \\le c \\Delta t$. For the object at rest, $\\Delta t = \\Delta t_{\\rm obs}$ and the size is constrained directly from the duration of the burst.\n",
    "\n",
    "a) What is the photon number density in the sphere in terms of $E$, $\\Delta t_{\\rm obs}$, and the average radiated photon energy $h \\nu$?\n",
    "\n",
    "b) For high energy photon-photon interactions (producing electron-positron pairs), the maximum value of the cross section is roughly $\\sigma_{\\rm pp} \\simeq 3/16 \\, \\sigma_T$, with $\\sigma_T$ the Thomson cross section for electron scattering. Show that the optical depth is then $$\\tau_{\\rm pp} = \\frac{9 E \\sigma_T}{64\\pi c^2 (\\Delta t_{\\rm obs})^2 h\\nu},$$ where we have assumed that all the photons are sufficiently energetic to produce electron-positron pairs.\n",
    "\n",
    "c) For a gamma ray burst with $\\Delta t = 10$ ms, $E = 10^{51}$ erg, and average photon energy $h\\nu = 1$ MeV, what is the optical depth to pair-production?\n",
    "\n",
    "d) Why is this considered a problem? You could think about either what the spectrum of an object with this optical depth might look like, or consider physically what should end up happening to the photons."
   ]
  },
  {
   "cell_type": "code",
   "execution_count": null,
   "metadata": {},
   "outputs": [],
   "source": []
  },
  {
   "cell_type": "markdown",
   "metadata": {},
   "source": [
    "### Relativistic effects and compactness\n",
    "\n",
    "Instead of at rest, consider the same emission region moving relativistically at a velocity $\\beta \\approx 1$ (Lorentz factor $\\gamma \\gg 1$) directly at the observer.\n",
    "\n",
    "e) One key difference is that for an *observed* burst duration $\\Delta t_{\\rm obs}$, the maximum emitting region size is now $R \\approx 2 \\gamma^2 c \\Delta t_{\\rm obs}$. Derive this by calculating the observed time interval $\\Delta t_{\\rm obs}$ between two pulses emitted at an interval $\\Delta t$ in a similar fashion as in Problem 1a.\n",
    "\n",
    "f) With that change, what Lorentz factor $\\gamma$ would be required to lower the optical depth to $\\tau_{\\rm pp} = 1$? As well as the size constraint, Doppler shifts of the photon energies also modify the optical depth, so that $\\tau_{pp} \\sim \\gamma^{-6}$ and relativistic motion can solve the compactness problem."
   ]
  },
  {
   "cell_type": "code",
   "execution_count": null,
   "metadata": {},
   "outputs": [],
   "source": []
  },
  {
   "cell_type": "markdown",
   "metadata": {},
   "source": [
    "## Problem 3 -- red and blue kilonovae\n",
    "\n",
    "During the merger of two neutron stars, neutron-rich material can be ejected. Radioactive decays in this expanding, outflowing material are thought to power a supernova-like transient – a “kilonova.” In this problem, we will calculate the expected properties of the observed light curves."
   ]
  },
  {
   "cell_type": "markdown",
   "metadata": {},
   "source": [
    "a) Assume that the ejecta mass is $M = 10^{−2} M_{\\rm Sun}$ outflowing at a velocity of $v = 0.1c$. If the ejecta form very heavy elements (e.g., lanthanides), the opacity becomes large: $\\kappa \\approx 10$ cm$^2$ g$^{-1}$. Otherwise, it is similar to a normal supernova: $\\kappa \\approx 0.2$ cm$^2$ g$^{-1}$. \n",
    "\n",
    "What is the diffusion time for these two different scenarios?\n"
   ]
  },
  {
   "cell_type": "code",
   "execution_count": null,
   "metadata": {},
   "outputs": [],
   "source": []
  },
  {
   "cell_type": "markdown",
   "metadata": {},
   "source": [
    "b) Energy is injected into the supernova ejecta by the radioactive decay of heavy lanthanide elements. Estimate the peak luminosity $L_p$ in each case, assuming that the energy thermalized from radioactive decays is given by $$E = 10^{-6} M_{\\rm ej} c^2 \\left(\\frac{t}{1 \\, \\rm day}\\right)^{-4/3}$$"
   ]
  },
  {
   "cell_type": "code",
   "execution_count": null,
   "metadata": {},
   "outputs": [],
   "source": []
  },
  {
   "cell_type": "markdown",
   "metadata": {},
   "source": [
    "c) A bolometric light curve of the transient associated with the neutron star merger GW170817 is shown below. Were the ejecta lanthanide-rich at peak?"
   ]
  },
  {
   "cell_type": "code",
   "execution_count": 25,
   "metadata": {},
   "outputs": [
    {
     "data": {
      "text/plain": [
       "Text(0, 0.5, 'bolometric luminosity (erg s$^{-1}$)')"
      ]
     },
     "execution_count": 25,
     "metadata": {},
     "output_type": "execute_result"
    },
    {
     "data": {
      "image/png": "[encoded data removed]",
      "text/plain": [
       "<Figure size 360x288 with 1 Axes>"
      ]
     },
     "metadata": {
      "needs_background": "light"
     },
     "output_type": "display_data"
    }
   ],
   "source": [
    "data=ascii.read('gw170817_lbol.csv',format='csv')\n",
    "plt.figure(figsize=(5,4))\n",
    "plt.loglog(data['time'],data['lbol'],marker='o',linestyle='')\n",
    "plt.xlabel('time (days)'); plt.ylabel('bolometric luminosity (erg s$^{-1}$)')"
   ]
  },
  {
   "cell_type": "code",
   "execution_count": null,
   "metadata": {},
   "outputs": [],
   "source": []
  }
 ],
 "metadata": {
  "kernelspec": {
   "display_name": "Python 3",
   "language": "python",
   "name": "python3"
  },
  "language_info": {
   "codemirror_mode": {
    "name": "ipython",
    "version": 3
   },
   "file_extension": ".py",
   "mimetype": "text/x-python",
   "name": "python",
   "nbconvert_exporter": "python",
   "pygments_lexer": "ipython3",
   "version": "3.7.3"
  }
 },
 "nbformat": 4,
 "nbformat_minor": 2
}
