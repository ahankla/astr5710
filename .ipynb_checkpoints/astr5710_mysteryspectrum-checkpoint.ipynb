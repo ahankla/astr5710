{
 "cells": [
  {
   "cell_type": "code",
   "execution_count": 4,
   "metadata": {
    "scrolled": false
   },
   "outputs": [],
   "source": [
    "%matplotlib inline\n",
    "import matplotlib.pyplot as plt\n",
    "import numpy as np\n",
    "from astropy.io import ascii\n",
    "\n",
    "# plotting options\n",
    "import matplotlib as mpl\n",
    "mpl.rc('font',**{'family':'sans-serif','size':14})\n",
    "mpl.rcParams['xtick.direction'] = 'in'\n",
    "mpl.rcParams['ytick.direction'] = 'in'"
   ]
  },
  {
   "cell_type": "code",
   "execution_count": 2,
   "metadata": {},
   "outputs": [],
   "source": [
    "kev_to_Hz = 2.4e17\n",
    "h_cgs = 6.6e-27 # erg*s\n",
    "kb_cgs = 1.4e-16 # erg/K\n",
    "G_cgs = 6.67e-8\n",
    "c_cgs = 3e10\n",
    "Msun_cgs = 2e33\n",
    "e_cgs = 4.8e-10\n",
    "me_cgs = 9.1e-28"
   ]
  },
  {
   "cell_type": "markdown",
   "metadata": {},
   "source": [
    "# Analyze a mystery object's power law synchrotron spectrum"
   ]
  },
  {
   "cell_type": "markdown",
   "metadata": {},
   "source": [
    "## Spectrum\n",
    "\n",
    "The object's angular size at 86 GHz is $\\sim 0.01$ mas ($\\simeq 5x10^{-11}$ rad), in an observation where flux density $F_\\nu = 0.235$ Jy with $1$ Jy = $10^{-23}$ erg cm$^{-2}$ s$^{-1}$ ster$^{-1}$, and it is at a distance D $D = 140$ Mpc from Earth"
   ]
  },
  {
   "cell_type": "code",
   "execution_count": 32,
   "metadata": {},
   "outputs": [
    {
     "data": {
      "text/plain": [
       "Text(0, 0.5, 'monochromatic flux $\\\\nu F_\\\\nu$ (erg cm$^{-2}$ s$^{-1}$)')"
      ]
     },
     "execution_count": 32,
     "metadata": {},
     "output_type": "execute_result"
    },
    {
     "data": {
      "image/png": "[encoded data removed]",
      "text/plain": [
       "<Figure size 432x432 with 1 Axes>"
      ]
     },
     "metadata": {
      "needs_background": "light"
     },
     "output_type": "display_data"
    }
   ],
   "source": [
    "# load data\n",
    "data = ascii.read('astr5710_mysteryobject1.csv',format='csv')\n",
    "\n",
    "angular_size = 5.e-11\n",
    "solid_angle = np.pi*angular_size**2\n",
    "Fnu = 2.35e-24\n",
    "nu = 86e9\n",
    "distance = 4.3e26 #cm\n",
    "# trig: tan theta \\approx \\theta = R/D\n",
    "radius = distance*angular_size\n",
    "\n",
    "plt.figure(figsize=(6,6))\n",
    "plt.loglog(data['nu'],data['nuFnu'],marker='o',linestyle='')\n",
    "plt.xlabel(r'frequency $\\nu$ (Hz)',fontsize=16); plt.ylabel(r'monochromatic flux $\\nu F_\\nu$ (erg cm$^{-2}$ s$^{-1}$)',fontsize=16)"
   ]
  },
  {
   "cell_type": "markdown",
   "metadata": {},
   "source": [
    "## 1. What values of p do you see at low and high frequencies? What range of e- energies is present?"
   ]
  },
  {
   "cell_type": "code",
   "execution_count": 10,
   "metadata": {},
   "outputs": [
    {
     "name": "stdout",
     "output_type": "stream",
     "text": [
      "0.5\n",
      "2.0\n",
      "0.75\n",
      "2.5\n"
     ]
    }
   ],
   "source": [
    "low_freq_slope = 1/2\n",
    "low_jnu_slope = low_freq_slope - 1\n",
    "low_alpha = -low_jnu_slope\n",
    "low_p = 2*low_alpha+1\n",
    "print(low_alpha)\n",
    "print(low_p)\n",
    "high_freq_slope = 0.5/(2)\n",
    "high_jnu_slope = high_freq_slope - 1\n",
    "high_alpha = -high_jnu_slope\n",
    "high_p = 2*high_alpha + 1\n",
    "print(high_alpha)\n",
    "print(high_p)"
   ]
  },
  {
   "cell_type": "markdown",
   "metadata": {},
   "source": [
    "## 2. Brightness temperature\n",
    "\n",
    "Calculate the observed brightness temperature, assuming the source is a sphere\n",
    "\n",
    "$$T_b = \\frac{c^2 I_\\nu}{2 k \\nu^2}$$"
   ]
  },
  {
   "cell_type": "code",
   "execution_count": 11,
   "metadata": {},
   "outputs": [
    {
     "name": "stdout",
     "output_type": "stream",
     "text": [
      "1.30e+11\n"
     ]
    }
   ],
   "source": [
    "# angular_size = radius/distance\n",
    "# Fnu = solid_angle*I_nu = pi*angular_size**2*Inu, assume Inu is Planck for brightness temperature\n",
    "Inu = Fnu/np.pi/solid_angle**2\n",
    "Tb = c_cgs**2*Inu/(2*kb_cgs*nu**2)\n",
    "print(\"{:.2e}\".format(Tb))\n",
    "# a brightness temperature of 1e11 is HUGE -- but remember it's an upper limit on thermal...\n",
    "# so this source could be nonthermal. "
   ]
  },
  {
   "cell_type": "markdown",
   "metadata": {},
   "source": [
    "## 3. Magnetic field estimate\n",
    "\n",
    "A power law synchrotron spectrum is composed of the sum of contributions from electrons of different energies. A useful approximation is that each observed frequency is mostly produced by electrons whose Lorentz factor $\\gamma$ is such that $\\nu_c(\\gamma) = \\nu$.\n",
    "\n",
    "Show that for a single electron, this approximation allows an estimate of the magnetic field strength $B$ when $\\gamma$ is known. Using $\\gamma m_e c^2 \\approx 3 k T$ and setting $T = T_b$ from the previous part, estimate the magnetic field strength of the mystery object. You can assume that $\\sin \\alpha = 1/2$.\n",
    "\n",
    "Given that brightness temperature is a lower limit to the true temperature, how does this estimate of $B$ compare to the actual value?"
   ]
  },
  {
   "cell_type": "code",
   "execution_count": 27,
   "metadata": {},
   "outputs": [
    {
     "name": "stdout",
     "output_type": "stream",
     "text": [
      "1.81e+12\n"
     ]
    },
    {
     "data": {
      "text/plain": [
       "9.21460186831132"
      ]
     },
     "execution_count": 27,
     "metadata": {},
     "output_type": "execute_result"
    }
   ],
   "source": [
    "B_const = 8.*np.pi/3*me_cgs**3*c_cgs**5/(9*kb_cgs**2*e_cgs)\n",
    "def B_estimate(T, nu_c):\n",
    "    return B_const*nu_c/T**2\n",
    "\n",
    "print(\"{:.2e}\".format(B_const))\n",
    "B_estimate(Tb, nu)"
   ]
  },
  {
   "cell_type": "markdown",
   "metadata": {},
   "source": [
    "## 4. What are the minimum and maximum electron energies present?\n",
    "\n",
    "Use the observed spectrum and your estimate for $B$ to calculate the cutoff Lorentz factor, $\\gamma_{\\rm max}$. Further assume that the lowest measured frequency corresponds to $\\nu_c(\\gamma_{\\rm min})$, and estimate $\\gamma_{\\rm min}$."
   ]
  },
  {
   "cell_type": "code",
   "execution_count": 25,
   "metadata": {},
   "outputs": [
    {
     "name": "stdout",
     "output_type": "stream",
     "text": [
      "2.27e+05\n",
      "7.19e+00\n"
     ]
    }
   ],
   "source": [
    "def gamma_from_nu(nu_val, B_estimate):\n",
    "    return np.sqrt(8.*np.pi/3*nu_val*me_cgs*c_cgs/(e_cgs*B_estimate))\n",
    "    \n",
    "nu_max = 1.e18\n",
    "gamma_max = gamma_from_nu(nu_max, B_estimate(Tb, nu))\n",
    "nu_min = 1.e9\n",
    "gamma_min = gamma_from_nu(nu_min, B_estimate(Tb, nu))\n",
    "print(\"{:.2e}\".format(gamma_max))\n",
    "print(\"{:.2e}\".format(gamma_min))"
   ]
  },
  {
   "cell_type": "markdown",
   "metadata": {},
   "source": [
    "## 5. Particle density estimate\n",
    "\n",
    "Finally, use these parameters and the power law emissivity (the function jnu_PL below) along with your solution from Problem Set 1 for the flux density from a uniform, optically thin sphere to estimate the particle density $n_e$.\n",
    "\n",
    "For this estimate, you can use the source size $R$ at $\\nu = 86$ GHz and the corresponding values of $F_\\nu$ and $p$ from the source spectrum."
   ]
  },
  {
   "cell_type": "code",
   "execution_count": 35,
   "metadata": {},
   "outputs": [
    {
     "name": "stdout",
     "output_type": "stream",
     "text": [
      "R=2.15e+16 cm\n"
     ]
    }
   ],
   "source": [
    "print(\"R={:.2e} cm\".format(radius))\n",
    "    \n",
    "# Take the p from the low power-law since all the Tb, R measurements come from 86 GHz\n",
    "# From PS 1, problem 1c, get the flux density from an optically thin sphere\n",
    "def Fnu_thin(jnu):\n",
    "    return 4.*np.pi/3.*radius**3*jnu/(4.*np.pi)"
   ]
  },
  {
   "cell_type": "markdown",
   "metadata": {},
   "source": [
    "## 6. What is the mystery object?\n",
    "\n",
    "Given the properties you've calculated, what can you say about the mystery object? What types of astronomical objects do you think it could be and why?"
   ]
  },
  {
   "cell_type": "code",
   "execution_count": null,
   "metadata": {},
   "outputs": [],
   "source": []
  }
 ],
 "metadata": {
  "kernelspec": {
   "display_name": "Python 3",
   "language": "python",
   "name": "python3"
  },
  "language_info": {
   "codemirror_mode": {
    "name": "ipython",
    "version": 3
   },
   "file_extension": ".py",
   "mimetype": "text/x-python",
   "name": "python",
   "nbconvert_exporter": "python",
   "pygments_lexer": "ipython3",
   "version": "3.6.9"
  }
 },
 "nbformat": 4,
 "nbformat_minor": 2
}
