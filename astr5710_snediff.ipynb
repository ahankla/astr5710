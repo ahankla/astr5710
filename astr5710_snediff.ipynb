{
 "cells": [
  {
   "cell_type": "code",
   "execution_count": null,
   "metadata": {
    "scrolled": false
   },
   "outputs": [],
   "source": [
    "%matplotlib inline\n",
    "import matplotlib.pyplot as plt\n",
    "import numpy as np\n",
    "from astropy.io import ascii\n",
    "from PIL import Image\n",
    "\n",
    "# plotting options\n",
    "import matplotlib as mpl\n",
    "mpl.rc('font',**{'family':'sans-serif','size':14})\n",
    "mpl.rcParams['xtick.direction'] = 'in'\n",
    "mpl.rcParams['ytick.direction'] = 'in'"
   ]
  },
  {
   "cell_type": "markdown",
   "metadata": {},
   "source": [
    "# Supernova light curves: radiative diffusion and energetics"
   ]
  },
  {
   "cell_type": "markdown",
   "metadata": {},
   "source": [
    "## Diffusion through homologously expanding supernova ejecta\n",
    "\n",
    "Consider a model of ejected stellar material in a supernova explosion as a sphere expanding radially at a constant velocity $v$: $$R(t) = R_0 + v t,$$ where $R_0$ is the initial radius of the star.\n",
    "\n",
    "Since stars are optically thick, photons will at first be trapped inside. As a result, we see light from a supernova on a timescale of the diffusion time, $t_d$, for photons to escape. "
   ]
  },
  {
   "cell_type": "markdown",
   "metadata": {},
   "source": [
    "## 1. The diffusion time\n",
    "\n",
    "Using the concept of a random walk, we previously showed that the mean number of scattering events in a sphere of radius $R$ is $N_{\\rm sc} = \\tau_{\\rm sc}^2$, where $\\tau_{\\rm sc} \\approx n \\sigma_T R  = \\rho \\kappa R$ is the scattering optical depth.\n",
    "\n",
    "Use that result to show that the diffusion time can be written as $t_d = \\tau_{\\rm sc} R/c$. \n",
    "\n",
    "Further, assume late times where $R(t) \\approx v t$ and solve for the diffusion time through expanding supernova ejecta in terms of the ejecta opacity $\\kappa$, velocity $v$, and mass $M_{\\rm ej} = \\rho V$ with $V$ the volume.\n",
    "\n",
    "For $M_{\\rm ej} = 1 M_{\\rm Sun}$, $\\kappa = \\sigma_T/m_p = 0.4$ cm$^{-2}$ g$^{-1}$, and $v = 10^9$ cm s$^{-1}$, what is the diffusion time?\n",
    "\n",
    "The long radiative diffusion time is why we usually see supernovae in the optical with a long delay from the time of the very short core collapse event."
   ]
  },
  {
   "cell_type": "code",
   "execution_count": null,
   "metadata": {},
   "outputs": [],
   "source": []
  },
  {
   "cell_type": "markdown",
   "metadata": {},
   "source": [
    "## 2. Optical depth and diffusion\n",
    "\n",
    "At $t = t_d$, what is the scattering optical depth $\\tau_{\\rm sc}$? How is this result different from the usual rule of thumb that we observe emission from a $\\tau = 1$ photosphere?"
   ]
  },
  {
   "cell_type": "code",
   "execution_count": null,
   "metadata": {},
   "outputs": [],
   "source": []
  },
  {
   "cell_type": "markdown",
   "metadata": {},
   "source": [
    "## 3. Internal energy evolution\n",
    "\n",
    "Initially at $R(t=0) = R_0$, the internal energy and kinetic energy are each comparable to the total shock energy. The internal energy then changes as the supernova ejecta expand do PdV work on the surrounding environment.\n",
    "\n",
    "For adiabatic expansion, $P V^\\Gamma = $ constant with $\\Gamma = 4/3$ (appropriate for a radiation pressure equation of state), calculate how the pressure $P$ and total internal energy $U \\approx PV/(\\Gamma-1)$ vary as a function of radius $R(t)$ and time $t$."
   ]
  },
  {
   "cell_type": "code",
   "execution_count": null,
   "metadata": {},
   "outputs": [],
   "source": []
  },
  {
   "cell_type": "markdown",
   "metadata": {},
   "source": [
    "## 4. Peak luminosity from shock-powered supernova\n",
    "\n",
    "In the absence of any added internal energy (heating), a supernova light curve can be powered by this initial shock energy. A useful estimate of the peak luminosity comes from assuming the internal energy escapes at $t_d$: $$L_p \\sim \\frac{U(t_d)}{t_d}.$$\n",
    "\n",
    "For the cases of i) a red supergiant with $R_0 = 10^{14}$ cm (Type II supernova) and ii) a white dwarf with $R_0 = 10^9$ cm (Type Ia supernova), what is $L_p$?"
   ]
  },
  {
   "cell_type": "code",
   "execution_count": null,
   "metadata": {},
   "outputs": [],
   "source": []
  },
  {
   "cell_type": "markdown",
   "metadata": {},
   "source": [
    "## 5. Comparison to basic properties of Type II and Ia supernovae\n",
    "\n",
    "Compare your result from part 4 to sample light curves below ($L_{\\rm Sun} = 4\\times10^{33}$ erg s$^{-1}$). Could an initial shock energy of $10^{51}$ erg plausibly power either of these light curves?\n",
    "\n",
    "For the case of Type Ia supernovae, what is the actual heating mechanism which can power the light curve over timescales of days to weeks? (Apparently first suggested by Titus Pankey Jr. in 1962.)"
   ]
  },
  {
   "cell_type": "code",
   "execution_count": null,
   "metadata": {},
   "outputs": [],
   "source": [
    "pil_im = Image.open('typeia_ii_sne_lc.jpg', 'r')\n",
    "plt.figure(figsize=(10,8))\n",
    "plt.imshow(np.asarray(pil_im),cmap=plt.cm.gray)\n",
    "plt.axis('off')"
   ]
  },
  {
   "cell_type": "code",
   "execution_count": null,
   "metadata": {},
   "outputs": [],
   "source": []
  }
 ],
 "metadata": {
  "kernelspec": {
   "display_name": "Python 3",
   "language": "python",
   "name": "python3"
  },
  "language_info": {
   "codemirror_mode": {
    "name": "ipython",
    "version": 3
   },
   "file_extension": ".py",
   "mimetype": "text/x-python",
   "name": "python",
   "nbconvert_exporter": "python",
   "pygments_lexer": "ipython3",
   "version": "3.7.3"
  }
 },
 "nbformat": 4,
 "nbformat_minor": 2
}
